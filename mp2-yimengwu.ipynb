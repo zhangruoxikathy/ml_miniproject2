{
 "cells": [
  {
   "cell_type": "markdown",
   "metadata": {},
   "source": [
    "### Mini-Project 2: Yimeng Wu \n",
    "### Teammate: Kathy Zhang"
   ]
  },
  {
   "cell_type": "markdown",
   "metadata": {},
   "source": [
    "#### 1. Since it’s important to use theory/intuition/common sense in concert with our data driven approaches, what factors do you suspect will affect the true, underlying model of whether or not a firm will commit tax evasion? Briefly explain.\n",
    "\n",
    "1. Local Corruption. Companies in places where corruption is more common might be more likely to avoid paying taxes. Because in these areas, companies might find it easier to bribe the local officials to ignore their tax evasion.\n",
    "2. Financial Status. In common sense, firms in bad financial status, for example firms having financial liquidity problem might be more tempted to evade taxes so that it can alleviate their financial burdens.\n",
    "3. Firm's structure. Firms with more complex financial structures might be more likely to evade taxes, as the complex structures can potentially increse the difficulties of audition, and hide the tax evasion.\n",
    "4. Industry of the firm. Certain industries might be more likely to evade tax, particularly those where transactions are frequently conducted in cash. This mode of transaction can make accounting records less traceable, thus hide firm's true financial activities from audits and evade taxes effectively.\n",
    "5. Economic Conditions. During periods of economic downturn, firms might be more likely to evade taxes so as to maintain its profitability."
   ]
  },
  {
   "cell_type": "markdown",
   "metadata": {},
   "source": [
    "#### 2. Assume that in addition to some combination of the predictors listed in Table 1, the interaction of two predictor variables also enters the true model. If the appropriate interaction is not explicitly included as a predictor in the fitted model, what advantage does KNN enjoy over the LPM if the interaction is indeed important to the true relationship?\n",
    "\n",
    "Advantages: KNN is a non-parametric method, which means it doesn't make strict assumptions about the structure of the model, i.e. the specific form of the function that connects the predictors to the outcome. This flexibility allows KNN to detect complex relationships and interactions between variables implicitly. In our situation, an important interaction between two predictors is not explicitly included in the model, KNN may still account for it through the proximity and arrangement of data points in the neighbors. In contrast, LPM is a parametric approach that requires the explicit specification of interaction terms if they are important to the true relationship. If the interaction term is omitted, LPM cannot capture the effect of the interacting predictors on the outcome, which could lead to bias. Therefore, KNN's flexible nature often gives it advantages in capturing nuanced patterns that an LPM might miss unless those interactions are explicitly included.\n"
   ]
  },
  {
   "cell_type": "code",
   "execution_count": 19,
   "metadata": {},
   "outputs": [
    {
     "data": {
      "text/html": [
       "<div>\n",
       "<style scoped>\n",
       "    .dataframe tbody tr th:only-of-type {\n",
       "        vertical-align: middle;\n",
       "    }\n",
       "\n",
       "    .dataframe tbody tr th {\n",
       "        vertical-align: top;\n",
       "    }\n",
       "\n",
       "    .dataframe thead th {\n",
       "        text-align: right;\n",
       "    }\n",
       "</style>\n",
       "<table border=\"1\" class=\"dataframe\">\n",
       "  <thead>\n",
       "    <tr style=\"text-align: right;\">\n",
       "      <th></th>\n",
       "      <th>Sector_score</th>\n",
       "      <th>PARA_A</th>\n",
       "      <th>Risk_A</th>\n",
       "      <th>PARA_B</th>\n",
       "      <th>Risk_B</th>\n",
       "      <th>Money_Value</th>\n",
       "      <th>Risk_D</th>\n",
       "      <th>Score</th>\n",
       "      <th>Inherent_Risk</th>\n",
       "      <th>Audit_Risk</th>\n",
       "      <th>Risk</th>\n",
       "    </tr>\n",
       "  </thead>\n",
       "  <tbody>\n",
       "    <tr>\n",
       "      <th>0</th>\n",
       "      <td>3.89</td>\n",
       "      <td>4.18</td>\n",
       "      <td>2.508</td>\n",
       "      <td>2.50</td>\n",
       "      <td>0.500</td>\n",
       "      <td>3.38</td>\n",
       "      <td>0.676</td>\n",
       "      <td>2.4</td>\n",
       "      <td>8.574</td>\n",
       "      <td>1.7148</td>\n",
       "      <td>1</td>\n",
       "    </tr>\n",
       "    <tr>\n",
       "      <th>1</th>\n",
       "      <td>3.89</td>\n",
       "      <td>0.00</td>\n",
       "      <td>0.000</td>\n",
       "      <td>4.83</td>\n",
       "      <td>0.966</td>\n",
       "      <td>0.94</td>\n",
       "      <td>0.188</td>\n",
       "      <td>2.0</td>\n",
       "      <td>2.554</td>\n",
       "      <td>0.5108</td>\n",
       "      <td>0</td>\n",
       "    </tr>\n",
       "    <tr>\n",
       "      <th>2</th>\n",
       "      <td>3.89</td>\n",
       "      <td>0.51</td>\n",
       "      <td>0.102</td>\n",
       "      <td>0.23</td>\n",
       "      <td>0.046</td>\n",
       "      <td>0.00</td>\n",
       "      <td>0.000</td>\n",
       "      <td>2.0</td>\n",
       "      <td>1.548</td>\n",
       "      <td>0.3096</td>\n",
       "      <td>0</td>\n",
       "    </tr>\n",
       "    <tr>\n",
       "      <th>3</th>\n",
       "      <td>3.89</td>\n",
       "      <td>0.00</td>\n",
       "      <td>0.000</td>\n",
       "      <td>10.80</td>\n",
       "      <td>6.480</td>\n",
       "      <td>11.75</td>\n",
       "      <td>7.050</td>\n",
       "      <td>4.4</td>\n",
       "      <td>17.530</td>\n",
       "      <td>3.5060</td>\n",
       "      <td>1</td>\n",
       "    </tr>\n",
       "    <tr>\n",
       "      <th>4</th>\n",
       "      <td>3.89</td>\n",
       "      <td>0.00</td>\n",
       "      <td>0.000</td>\n",
       "      <td>0.08</td>\n",
       "      <td>0.016</td>\n",
       "      <td>0.00</td>\n",
       "      <td>0.000</td>\n",
       "      <td>2.0</td>\n",
       "      <td>1.416</td>\n",
       "      <td>0.2832</td>\n",
       "      <td>0</td>\n",
       "    </tr>\n",
       "  </tbody>\n",
       "</table>\n",
       "</div>"
      ],
      "text/plain": [
       "   Sector_score  PARA_A  Risk_A  PARA_B  Risk_B  Money_Value  Risk_D  Score  \\\n",
       "0          3.89    4.18   2.508    2.50   0.500         3.38   0.676    2.4   \n",
       "1          3.89    0.00   0.000    4.83   0.966         0.94   0.188    2.0   \n",
       "2          3.89    0.51   0.102    0.23   0.046         0.00   0.000    2.0   \n",
       "3          3.89    0.00   0.000   10.80   6.480        11.75   7.050    4.4   \n",
       "4          3.89    0.00   0.000    0.08   0.016         0.00   0.000    2.0   \n",
       "\n",
       "   Inherent_Risk  Audit_Risk  Risk  \n",
       "0          8.574      1.7148     1  \n",
       "1          2.554      0.5108     0  \n",
       "2          1.548      0.3096     0  \n",
       "3         17.530      3.5060     1  \n",
       "4          1.416      0.2832     0  "
      ]
     },
     "execution_count": 19,
     "metadata": {},
     "output_type": "execute_result"
    }
   ],
   "source": [
    "import os\n",
    "import numpy as np\n",
    "import pandas as pd\n",
    "from sklearn.linear_model import LogisticRegression\n",
    "from sklearn.neighbors import KNeighborsClassifier\n",
    "from sklearn.metrics import accuracy_score\n",
    "from sklearn.metrics import confusion_matrix\n",
    "import math\n",
    "from sklearn.model_selection import GridSearchCV, KFold\n",
    "from sklearn.preprocessing import StandardScaler\n",
    "from sklearn.model_selection import train_test_split\n",
    "from sklearn.metrics import precision_score\n",
    "\n",
    "path = r'/Users/yimeng/Documents/Machine Learning/MP2'\n",
    "audit_f = 'Data-Audit.csv'\n",
    "audit = pd.read_csv(os.path.join(path, audit_f))\n",
    "audit.head()"
   ]
  },
  {
   "cell_type": "code",
   "execution_count": 20,
   "metadata": {},
   "outputs": [
    {
     "name": "stdout",
     "output_type": "stream",
     "text": [
      "Risk\n",
      "0    471\n",
      "1    305\n",
      "dtype: int64\n"
     ]
    }
   ],
   "source": [
    "print(audit.groupby(\"Risk\").size())"
   ]
  },
  {
   "cell_type": "code",
   "execution_count": 21,
   "metadata": {},
   "outputs": [
    {
     "data": {
      "text/html": [
       "<div>\n",
       "<style scoped>\n",
       "    .dataframe tbody tr th:only-of-type {\n",
       "        vertical-align: middle;\n",
       "    }\n",
       "\n",
       "    .dataframe tbody tr th {\n",
       "        vertical-align: top;\n",
       "    }\n",
       "\n",
       "    .dataframe thead th {\n",
       "        text-align: right;\n",
       "    }\n",
       "</style>\n",
       "<table border=\"1\" class=\"dataframe\">\n",
       "  <thead>\n",
       "    <tr style=\"text-align: right;\">\n",
       "      <th></th>\n",
       "      <th>Count NAs</th>\n",
       "    </tr>\n",
       "  </thead>\n",
       "  <tbody>\n",
       "    <tr>\n",
       "      <th>Sector_score</th>\n",
       "      <td>0</td>\n",
       "    </tr>\n",
       "    <tr>\n",
       "      <th>PARA_A</th>\n",
       "      <td>0</td>\n",
       "    </tr>\n",
       "    <tr>\n",
       "      <th>Risk_A</th>\n",
       "      <td>0</td>\n",
       "    </tr>\n",
       "    <tr>\n",
       "      <th>PARA_B</th>\n",
       "      <td>0</td>\n",
       "    </tr>\n",
       "    <tr>\n",
       "      <th>Risk_B</th>\n",
       "      <td>0</td>\n",
       "    </tr>\n",
       "    <tr>\n",
       "      <th>Money_Value</th>\n",
       "      <td>1</td>\n",
       "    </tr>\n",
       "    <tr>\n",
       "      <th>Risk_D</th>\n",
       "      <td>0</td>\n",
       "    </tr>\n",
       "    <tr>\n",
       "      <th>Score</th>\n",
       "      <td>0</td>\n",
       "    </tr>\n",
       "    <tr>\n",
       "      <th>Inherent_Risk</th>\n",
       "      <td>0</td>\n",
       "    </tr>\n",
       "    <tr>\n",
       "      <th>Audit_Risk</th>\n",
       "      <td>0</td>\n",
       "    </tr>\n",
       "    <tr>\n",
       "      <th>Risk</th>\n",
       "      <td>0</td>\n",
       "    </tr>\n",
       "  </tbody>\n",
       "</table>\n",
       "</div>"
      ],
      "text/plain": [
       "               Count NAs\n",
       "Sector_score           0\n",
       "PARA_A                 0\n",
       "Risk_A                 0\n",
       "PARA_B                 0\n",
       "Risk_B                 0\n",
       "Money_Value            1\n",
       "Risk_D                 0\n",
       "Score                  0\n",
       "Inherent_Risk          0\n",
       "Audit_Risk             0\n",
       "Risk                   0"
      ]
     },
     "execution_count": 21,
     "metadata": {},
     "output_type": "execute_result"
    }
   ],
   "source": [
    "na_count = pd.DataFrame(np.sum(audit.isna(), axis = 0), columns = [\"Count NAs\"])\n",
    "na_count"
   ]
  },
  {
   "cell_type": "code",
   "execution_count": 22,
   "metadata": {},
   "outputs": [
    {
     "name": "stdout",
     "output_type": "stream",
     "text": [
      "<class 'pandas.core.frame.DataFrame'>\n",
      "Index: 775 entries, 0 to 775\n",
      "Data columns (total 11 columns):\n",
      " #   Column         Non-Null Count  Dtype  \n",
      "---  ------         --------------  -----  \n",
      " 0   Sector_score   775 non-null    float64\n",
      " 1   PARA_A         775 non-null    float64\n",
      " 2   Risk_A         775 non-null    float64\n",
      " 3   PARA_B         775 non-null    float64\n",
      " 4   Risk_B         775 non-null    float64\n",
      " 5   Money_Value    775 non-null    float64\n",
      " 6   Risk_D         775 non-null    float64\n",
      " 7   Score          775 non-null    float64\n",
      " 8   Inherent_Risk  775 non-null    float64\n",
      " 9   Audit_Risk     775 non-null    float64\n",
      " 10  Risk           775 non-null    int64  \n",
      "dtypes: float64(10), int64(1)\n",
      "memory usage: 72.7 KB\n"
     ]
    }
   ],
   "source": [
    "audit = audit.dropna()\n",
    "audit.info()"
   ]
  },
  {
   "cell_type": "code",
   "execution_count": 23,
   "metadata": {},
   "outputs": [
    {
     "data": {
      "text/html": [
       "<div>\n",
       "<style scoped>\n",
       "    .dataframe tbody tr th:only-of-type {\n",
       "        vertical-align: middle;\n",
       "    }\n",
       "\n",
       "    .dataframe tbody tr th {\n",
       "        vertical-align: top;\n",
       "    }\n",
       "\n",
       "    .dataframe thead th {\n",
       "        text-align: right;\n",
       "    }\n",
       "</style>\n",
       "<table border=\"1\" class=\"dataframe\">\n",
       "  <thead>\n",
       "    <tr style=\"text-align: right;\">\n",
       "      <th></th>\n",
       "      <th>Sector_score</th>\n",
       "      <th>PARA_A</th>\n",
       "      <th>Risk_A</th>\n",
       "      <th>PARA_B</th>\n",
       "      <th>Risk_B</th>\n",
       "      <th>Money_Value</th>\n",
       "      <th>Risk_D</th>\n",
       "      <th>Score</th>\n",
       "      <th>Inherent_Risk</th>\n",
       "      <th>Audit_Risk</th>\n",
       "      <th>Risk</th>\n",
       "    </tr>\n",
       "  </thead>\n",
       "  <tbody>\n",
       "    <tr>\n",
       "      <th>count</th>\n",
       "      <td>775.000000</td>\n",
       "      <td>775.000000</td>\n",
       "      <td>775.000000</td>\n",
       "      <td>775.000000</td>\n",
       "      <td>775.000000</td>\n",
       "      <td>775.000000</td>\n",
       "      <td>775.000000</td>\n",
       "      <td>775.000000</td>\n",
       "      <td>775.000000</td>\n",
       "      <td>775.000000</td>\n",
       "      <td>775.000000</td>\n",
       "    </tr>\n",
       "    <tr>\n",
       "      <th>mean</th>\n",
       "      <td>20.138877</td>\n",
       "      <td>2.453059</td>\n",
       "      <td>1.352712</td>\n",
       "      <td>10.813924</td>\n",
       "      <td>6.342181</td>\n",
       "      <td>14.137631</td>\n",
       "      <td>8.276099</td>\n",
       "      <td>2.703484</td>\n",
       "      <td>17.701560</td>\n",
       "      <td>7.177034</td>\n",
       "      <td>0.393548</td>\n",
       "    </tr>\n",
       "    <tr>\n",
       "      <th>std</th>\n",
       "      <td>24.301417</td>\n",
       "      <td>5.681977</td>\n",
       "      <td>3.442348</td>\n",
       "      <td>50.114461</td>\n",
       "      <td>30.091403</td>\n",
       "      <td>66.606519</td>\n",
       "      <td>39.995557</td>\n",
       "      <td>0.859106</td>\n",
       "      <td>54.772482</td>\n",
       "      <td>38.691674</td>\n",
       "      <td>0.488852</td>\n",
       "    </tr>\n",
       "    <tr>\n",
       "      <th>min</th>\n",
       "      <td>1.850000</td>\n",
       "      <td>0.000000</td>\n",
       "      <td>0.000000</td>\n",
       "      <td>0.000000</td>\n",
       "      <td>0.000000</td>\n",
       "      <td>0.000000</td>\n",
       "      <td>0.000000</td>\n",
       "      <td>2.000000</td>\n",
       "      <td>1.400000</td>\n",
       "      <td>0.280000</td>\n",
       "      <td>0.000000</td>\n",
       "    </tr>\n",
       "    <tr>\n",
       "      <th>25%</th>\n",
       "      <td>2.370000</td>\n",
       "      <td>0.210000</td>\n",
       "      <td>0.042000</td>\n",
       "      <td>0.000000</td>\n",
       "      <td>0.000000</td>\n",
       "      <td>0.000000</td>\n",
       "      <td>0.000000</td>\n",
       "      <td>2.000000</td>\n",
       "      <td>1.584000</td>\n",
       "      <td>0.316800</td>\n",
       "      <td>0.000000</td>\n",
       "    </tr>\n",
       "    <tr>\n",
       "      <th>50%</th>\n",
       "      <td>3.890000</td>\n",
       "      <td>0.880000</td>\n",
       "      <td>0.176000</td>\n",
       "      <td>0.410000</td>\n",
       "      <td>0.082000</td>\n",
       "      <td>0.090000</td>\n",
       "      <td>0.018000</td>\n",
       "      <td>2.400000</td>\n",
       "      <td>2.214000</td>\n",
       "      <td>0.556000</td>\n",
       "      <td>0.000000</td>\n",
       "    </tr>\n",
       "    <tr>\n",
       "      <th>75%</th>\n",
       "      <td>55.570000</td>\n",
       "      <td>2.480000</td>\n",
       "      <td>1.488000</td>\n",
       "      <td>4.160000</td>\n",
       "      <td>1.887000</td>\n",
       "      <td>5.595000</td>\n",
       "      <td>2.238000</td>\n",
       "      <td>3.300000</td>\n",
       "      <td>10.703000</td>\n",
       "      <td>3.252600</td>\n",
       "      <td>1.000000</td>\n",
       "    </tr>\n",
       "    <tr>\n",
       "      <th>max</th>\n",
       "      <td>59.850000</td>\n",
       "      <td>85.000000</td>\n",
       "      <td>51.000000</td>\n",
       "      <td>1264.630000</td>\n",
       "      <td>758.778000</td>\n",
       "      <td>935.030000</td>\n",
       "      <td>561.018000</td>\n",
       "      <td>5.200000</td>\n",
       "      <td>801.262000</td>\n",
       "      <td>961.514400</td>\n",
       "      <td>1.000000</td>\n",
       "    </tr>\n",
       "  </tbody>\n",
       "</table>\n",
       "</div>"
      ],
      "text/plain": [
       "       Sector_score      PARA_A      Risk_A       PARA_B      Risk_B  \\\n",
       "count    775.000000  775.000000  775.000000   775.000000  775.000000   \n",
       "mean      20.138877    2.453059    1.352712    10.813924    6.342181   \n",
       "std       24.301417    5.681977    3.442348    50.114461   30.091403   \n",
       "min        1.850000    0.000000    0.000000     0.000000    0.000000   \n",
       "25%        2.370000    0.210000    0.042000     0.000000    0.000000   \n",
       "50%        3.890000    0.880000    0.176000     0.410000    0.082000   \n",
       "75%       55.570000    2.480000    1.488000     4.160000    1.887000   \n",
       "max       59.850000   85.000000   51.000000  1264.630000  758.778000   \n",
       "\n",
       "       Money_Value      Risk_D       Score  Inherent_Risk  Audit_Risk  \\\n",
       "count   775.000000  775.000000  775.000000     775.000000  775.000000   \n",
       "mean     14.137631    8.276099    2.703484      17.701560    7.177034   \n",
       "std      66.606519   39.995557    0.859106      54.772482   38.691674   \n",
       "min       0.000000    0.000000    2.000000       1.400000    0.280000   \n",
       "25%       0.000000    0.000000    2.000000       1.584000    0.316800   \n",
       "50%       0.090000    0.018000    2.400000       2.214000    0.556000   \n",
       "75%       5.595000    2.238000    3.300000      10.703000    3.252600   \n",
       "max     935.030000  561.018000    5.200000     801.262000  961.514400   \n",
       "\n",
       "             Risk  \n",
       "count  775.000000  \n",
       "mean     0.393548  \n",
       "std      0.488852  \n",
       "min      0.000000  \n",
       "25%      0.000000  \n",
       "50%      0.000000  \n",
       "75%      1.000000  \n",
       "max      1.000000  "
      ]
     },
     "execution_count": 23,
     "metadata": {},
     "output_type": "execute_result"
    }
   ],
   "source": [
    "pd.set_option('display.max_columns', None) \n",
    "audit.describe()"
   ]
  },
  {
   "cell_type": "markdown",
   "metadata": {},
   "source": [
    "### Data Analysis Questions"
   ]
  },
  {
   "cell_type": "markdown",
   "metadata": {},
   "source": [
    "#### 3. Split the sample set into a training set and a validation set. Use the training set to fit a linear probability model (LPM). Apply the model to the second half of the data to predict the probability a firm cheated."
   ]
  },
  {
   "cell_type": "code",
   "execution_count": 24,
   "metadata": {},
   "outputs": [
    {
     "data": {
      "text/html": [
       "<div>\n",
       "<style scoped>\n",
       "    .dataframe tbody tr th:only-of-type {\n",
       "        vertical-align: middle;\n",
       "    }\n",
       "\n",
       "    .dataframe tbody tr th {\n",
       "        vertical-align: top;\n",
       "    }\n",
       "\n",
       "    .dataframe thead th {\n",
       "        text-align: right;\n",
       "    }\n",
       "</style>\n",
       "<table border=\"1\" class=\"dataframe\">\n",
       "  <thead>\n",
       "    <tr style=\"text-align: right;\">\n",
       "      <th></th>\n",
       "      <th>Sector_score</th>\n",
       "      <th>PARA_A</th>\n",
       "      <th>Risk_A</th>\n",
       "      <th>PARA_B</th>\n",
       "      <th>Risk_B</th>\n",
       "      <th>Money_Value</th>\n",
       "      <th>Risk_D</th>\n",
       "      <th>Score</th>\n",
       "      <th>Inherent_Risk</th>\n",
       "      <th>Audit_Risk</th>\n",
       "    </tr>\n",
       "  </thead>\n",
       "  <tbody>\n",
       "    <tr>\n",
       "      <th>0</th>\n",
       "      <td>3.89</td>\n",
       "      <td>4.18</td>\n",
       "      <td>2.508</td>\n",
       "      <td>2.50</td>\n",
       "      <td>0.500</td>\n",
       "      <td>3.38</td>\n",
       "      <td>0.676</td>\n",
       "      <td>2.4</td>\n",
       "      <td>8.574</td>\n",
       "      <td>1.7148</td>\n",
       "    </tr>\n",
       "    <tr>\n",
       "      <th>1</th>\n",
       "      <td>3.89</td>\n",
       "      <td>0.00</td>\n",
       "      <td>0.000</td>\n",
       "      <td>4.83</td>\n",
       "      <td>0.966</td>\n",
       "      <td>0.94</td>\n",
       "      <td>0.188</td>\n",
       "      <td>2.0</td>\n",
       "      <td>2.554</td>\n",
       "      <td>0.5108</td>\n",
       "    </tr>\n",
       "    <tr>\n",
       "      <th>2</th>\n",
       "      <td>3.89</td>\n",
       "      <td>0.51</td>\n",
       "      <td>0.102</td>\n",
       "      <td>0.23</td>\n",
       "      <td>0.046</td>\n",
       "      <td>0.00</td>\n",
       "      <td>0.000</td>\n",
       "      <td>2.0</td>\n",
       "      <td>1.548</td>\n",
       "      <td>0.3096</td>\n",
       "    </tr>\n",
       "    <tr>\n",
       "      <th>3</th>\n",
       "      <td>3.89</td>\n",
       "      <td>0.00</td>\n",
       "      <td>0.000</td>\n",
       "      <td>10.80</td>\n",
       "      <td>6.480</td>\n",
       "      <td>11.75</td>\n",
       "      <td>7.050</td>\n",
       "      <td>4.4</td>\n",
       "      <td>17.530</td>\n",
       "      <td>3.5060</td>\n",
       "    </tr>\n",
       "    <tr>\n",
       "      <th>4</th>\n",
       "      <td>3.89</td>\n",
       "      <td>0.00</td>\n",
       "      <td>0.000</td>\n",
       "      <td>0.08</td>\n",
       "      <td>0.016</td>\n",
       "      <td>0.00</td>\n",
       "      <td>0.000</td>\n",
       "      <td>2.0</td>\n",
       "      <td>1.416</td>\n",
       "      <td>0.2832</td>\n",
       "    </tr>\n",
       "  </tbody>\n",
       "</table>\n",
       "</div>"
      ],
      "text/plain": [
       "   Sector_score  PARA_A  Risk_A  PARA_B  Risk_B  Money_Value  Risk_D  Score  \\\n",
       "0          3.89    4.18   2.508    2.50   0.500         3.38   0.676    2.4   \n",
       "1          3.89    0.00   0.000    4.83   0.966         0.94   0.188    2.0   \n",
       "2          3.89    0.51   0.102    0.23   0.046         0.00   0.000    2.0   \n",
       "3          3.89    0.00   0.000   10.80   6.480        11.75   7.050    4.4   \n",
       "4          3.89    0.00   0.000    0.08   0.016         0.00   0.000    2.0   \n",
       "\n",
       "   Inherent_Risk  Audit_Risk  \n",
       "0          8.574      1.7148  \n",
       "1          2.554      0.5108  \n",
       "2          1.548      0.3096  \n",
       "3         17.530      3.5060  \n",
       "4          1.416      0.2832  "
      ]
     },
     "metadata": {},
     "output_type": "display_data"
    },
    {
     "data": {
      "text/plain": [
       "0    1\n",
       "1    0\n",
       "2    0\n",
       "3    1\n",
       "4    0\n",
       "Name: Risk, dtype: int64"
      ]
     },
     "metadata": {},
     "output_type": "display_data"
    }
   ],
   "source": [
    "X = audit.drop(columns = ['Risk'])\n",
    "target = audit.loc[:,'Risk']\n",
    "display(X.head())\n",
    "display(target.head())"
   ]
  },
  {
   "cell_type": "code",
   "execution_count": 33,
   "metadata": {},
   "outputs": [
    {
     "name": "stderr",
     "output_type": "stream",
     "text": [
      "/Users/yimeng/anaconda3/lib/python3.11/site-packages/sklearn/linear_model/_logistic.py:460: ConvergenceWarning: lbfgs failed to converge (status=1):\n",
      "STOP: TOTAL NO. of ITERATIONS REACHED LIMIT.\n",
      "\n",
      "Increase the number of iterations (max_iter) or scale the data as shown in:\n",
      "    https://scikit-learn.org/stable/modules/preprocessing.html\n",
      "Please also refer to the documentation for alternative solver options:\n",
      "    https://scikit-learn.org/stable/modules/linear_model.html#logistic-regression\n",
      "  n_iter_i = _check_optimize_result(\n"
     ]
    }
   ],
   "source": [
    "from sklearn.linear_model import LinearRegression\n",
    "X_train, X_test, y_train, y_test = train_test_split(X, target, test_size=0.50, random_state=13)\n",
    "\n",
    "lpm = LinearRegression()\n",
    "lpm.fit(X_train, y_train)\n",
    "lpm_pred = lpm.predict_proba(X_test)[:, 1]"
   ]
  },
  {
   "cell_type": "markdown",
   "metadata": {},
   "source": [
    "(a) For firms with a predicted probability of tax evasion greater than 0.5, construct the\n",
    "confusion matrix.\n",
    "\n",
    "(b) For firms with a predicted probability of tax evasion greater than 0.6, construct the\n",
    "confusion matrix.\n",
    "\n",
    "(c) For each of the two thresholds, report the error rate. Which results in more accurate\n",
    "overall predictions?\n",
    "\n",
    "(d) For each of the two thresholds, what proportion of the firms predicted to evade their\n",
    "taxes actually evaded taxes?"
   ]
  },
  {
   "cell_type": "code",
   "execution_count": 32,
   "metadata": {},
   "outputs": [
    {
     "name": "stdout",
     "output_type": "stream",
     "text": [
      "Confusion Matrix: {0.5: array([[226,   3],\n",
      "       [  3, 156]]), 0.6: array([[228,   1],\n",
      "       [  4, 155]])}\n",
      "Error Rate: {0.5: 0.015463917525773141, 0.6: 0.012886597938144284}\n",
      "Precision: {0.5: 0.9811320754716981, 0.6: 0.9935897435897436}\n"
     ]
    }
   ],
   "source": [
    "thresholds = [0.5, 0.6]\n",
    "cm_lpm = {}\n",
    "error_rate_lpm = {}\n",
    "precision_lpm = {}\n",
    "\n",
    "for threshold in thresholds:\n",
    "    lpm_pred_bin = np.where(lpm_pred > threshold, 1, 0)\n",
    "    cm_lpm[threshold] = confusion_matrix(y_test, lpm_pred_bin)\n",
    "    error_rate_lpm[threshold] = 1 - accuracy_score(y_test, lpm_pred_bin)\n",
    "    precision_lpm[threshold] = precision_score(y_test, lpm_pred_bin, zero_division=0)\n",
    "\n",
    "print(f\"Confusion Matrix: {cm_lpm}\")\n",
    "print(f\"Error Rate: {error_rate_lpm}\")\n",
    "print(f\"Precision: {precision_lpm}\")"
   ]
  },
  {
   "cell_type": "markdown",
   "metadata": {},
   "source": [
    "(a)/(b) Confusion Matrix for threshold of 0.5 and 0.6 shown as above output.   \n",
    "(c) Error Rate: {0.5: 0.015463917525773141, 0.6: 0.012886597938144284}  \n",
    "The error rate for tax evasion is lower at threshold of 0.6, meaning that (b) results in more accurate overall predictions.   \n",
    "(d) Precision: {0.5: 0.9811320754716981, 0.6: 0.9935897435897436}   \n",
    "For 0.5 threshold, 98.11% of the firms predicted to evade their taxes actually evaded taxes.   \n",
    "For 0.6 threshold, 99.36% of the firms predicted to evade their taxes actually evaded taxes. \n",
    "The proportion of correct predictions for tax evasion is higher at threshold of 0.6. "
   ]
  },
  {
   "cell_type": "markdown",
   "metadata": {},
   "source": [
    "##### 4. In measuring performance in this context, should a false negative matter as much as a false positive? Briefly explain why or why not and how changing the threshold for classifying a firm as a tax evader (as in the previous question) affects this trade-off."
   ]
  },
  {
   "cell_type": "markdown",
   "metadata": {},
   "source": [
    "As mentioned in the context, the government's goal is to increase tax revenue, I consider focusing on minimizing false negatives (FNs) is crucial. Because false negatives represent missed opportunities to identify and collect from tax-evading firms and lost the direct revenue, i.e. the companies who evade the tax don't get caught and continue to evade tax.  \n",
    "\n",
    "To achieve this, the government could lower the threshold for classifying a firm as a tax evader. A lower threshold makes the model more sensitive to potential evasion, thereby reducing FNs. However, this approach might increase false positives (FPs), leading to more compliant firms being incorrectly flagged as evaders.  \n",
    "\n",
    "In question 3 we can see that lowering the threshold to 0.5 reduces FN (better capturing potential evaders) at a small cost of increasing FP. Raising the threshold to 0.6 decreases FP but misses more evaders (increases false negatives). Therefore, adjusting the threshold affects the trade-off between capturing more evaders and wrongly accusing compliant firms. A lower threshold (0.5) is more aligned with the goal of maximizing tax revenue, despite a slightly higher rate of false positives.  \n",
    "\n",
    "One thing we need to consider is that although the lower threshold can help capture more evaders, it also increase the audition costs as the government need to study more companies. It's important to balance the costs and revenue."
   ]
  },
  {
   "cell_type": "markdown",
   "metadata": {},
   "source": [
    "#### 5. Using the training set from the previous question, fit a KNN model with k = 5, then use it to predict outcomes in the validation set.\n",
    "\n",
    "(a) Construct the confusion matrix.\n",
    "\n",
    "(b) Report the error rate. How accurate are the overall predictions?\n",
    "\n",
    "(c) What proportion of the firms predicted to evade their taxes actually evaded taxes?"
   ]
  },
  {
   "cell_type": "code",
   "execution_count": 34,
   "metadata": {},
   "outputs": [
    {
     "name": "stdout",
     "output_type": "stream",
     "text": [
      "Confusion Matrix: [[226   3]\n",
      " [ 11 148]]\n",
      "Accuracy: 0.9639175257731959\n",
      "Error Rate: 0.03608247422680411\n",
      "Precision: 0.9801324503311258\n"
     ]
    }
   ],
   "source": [
    "knn = KNeighborsClassifier(n_neighbors=5)\n",
    "knn.fit(X_train, y_train)\n",
    "knn_pred = knn.predict(X_test)\n",
    "\n",
    "cm_knn = confusion_matrix(y_test, knn_pred)\n",
    "error_rate_knn = 1 - accuracy_score(y_test, knn_pred)\n",
    "precision_knn = precision_score(y_test, knn_pred, zero_division=0)\n",
    "\n",
    "print(f\"Confusion Matrix: {cm_knn}\")\n",
    "print(f\"Accuracy: {1-error_rate_knn}\")\n",
    "print(f\"Error Rate: {error_rate_knn}\")\n",
    "print(f\"Precision: {precision_knn}\")"
   ]
  },
  {
   "cell_type": "markdown",
   "metadata": {},
   "source": [
    "(b) With an error rate of 3.61%, the overall predictions have an accuracy of 96.39%.  \n",
    "(c) 98.01% of the firms predicted to evaded their taxes actually evaded taxes. "
   ]
  },
  {
   "cell_type": "markdown",
   "metadata": {},
   "source": [
    "#### 6. Repeat the previous question with k = 5 after normalizing the data."
   ]
  },
  {
   "cell_type": "code",
   "execution_count": 35,
   "metadata": {},
   "outputs": [
    {
     "data": {
      "text/html": [
       "<div>\n",
       "<style scoped>\n",
       "    .dataframe tbody tr th:only-of-type {\n",
       "        vertical-align: middle;\n",
       "    }\n",
       "\n",
       "    .dataframe tbody tr th {\n",
       "        vertical-align: top;\n",
       "    }\n",
       "\n",
       "    .dataframe thead th {\n",
       "        text-align: right;\n",
       "    }\n",
       "</style>\n",
       "<table border=\"1\" class=\"dataframe\">\n",
       "  <thead>\n",
       "    <tr style=\"text-align: right;\">\n",
       "      <th></th>\n",
       "      <th>Sector_score</th>\n",
       "      <th>PARA_A</th>\n",
       "      <th>Risk_A</th>\n",
       "      <th>PARA_B</th>\n",
       "      <th>Risk_B</th>\n",
       "      <th>Money_Value</th>\n",
       "      <th>Risk_D</th>\n",
       "      <th>Score</th>\n",
       "      <th>Inherent_Risk</th>\n",
       "      <th>Audit_Risk</th>\n",
       "    </tr>\n",
       "  </thead>\n",
       "  <tbody>\n",
       "    <tr>\n",
       "      <th>0</th>\n",
       "      <td>-0.669071</td>\n",
       "      <td>0.304129</td>\n",
       "      <td>0.335827</td>\n",
       "      <td>-0.166006</td>\n",
       "      <td>-0.194273</td>\n",
       "      <td>-0.161614</td>\n",
       "      <td>-0.190146</td>\n",
       "      <td>-0.353484</td>\n",
       "      <td>-0.166753</td>\n",
       "      <td>-0.141265</td>\n",
       "    </tr>\n",
       "    <tr>\n",
       "      <th>1</th>\n",
       "      <td>-0.669071</td>\n",
       "      <td>-0.432005</td>\n",
       "      <td>-0.393216</td>\n",
       "      <td>-0.119482</td>\n",
       "      <td>-0.178777</td>\n",
       "      <td>-0.198271</td>\n",
       "      <td>-0.202356</td>\n",
       "      <td>-0.819385</td>\n",
       "      <td>-0.276733</td>\n",
       "      <td>-0.172402</td>\n",
       "    </tr>\n",
       "    <tr>\n",
       "      <th>2</th>\n",
       "      <td>-0.669071</td>\n",
       "      <td>-0.342190</td>\n",
       "      <td>-0.363566</td>\n",
       "      <td>-0.211331</td>\n",
       "      <td>-0.209370</td>\n",
       "      <td>-0.212393</td>\n",
       "      <td>-0.207059</td>\n",
       "      <td>-0.819385</td>\n",
       "      <td>-0.295112</td>\n",
       "      <td>-0.177606</td>\n",
       "    </tr>\n",
       "    <tr>\n",
       "      <th>3</th>\n",
       "      <td>-0.669071</td>\n",
       "      <td>-0.432005</td>\n",
       "      <td>-0.393216</td>\n",
       "      <td>-0.000278</td>\n",
       "      <td>0.004583</td>\n",
       "      <td>-0.035870</td>\n",
       "      <td>-0.030676</td>\n",
       "      <td>1.976022</td>\n",
       "      <td>-0.003134</td>\n",
       "      <td>-0.094940</td>\n",
       "    </tr>\n",
       "    <tr>\n",
       "      <th>4</th>\n",
       "      <td>-0.669071</td>\n",
       "      <td>-0.432005</td>\n",
       "      <td>-0.393216</td>\n",
       "      <td>-0.214326</td>\n",
       "      <td>-0.210368</td>\n",
       "      <td>-0.212393</td>\n",
       "      <td>-0.207059</td>\n",
       "      <td>-0.819385</td>\n",
       "      <td>-0.297523</td>\n",
       "      <td>-0.178289</td>\n",
       "    </tr>\n",
       "  </tbody>\n",
       "</table>\n",
       "</div>"
      ],
      "text/plain": [
       "   Sector_score    PARA_A    Risk_A    PARA_B    Risk_B  Money_Value  \\\n",
       "0     -0.669071  0.304129  0.335827 -0.166006 -0.194273    -0.161614   \n",
       "1     -0.669071 -0.432005 -0.393216 -0.119482 -0.178777    -0.198271   \n",
       "2     -0.669071 -0.342190 -0.363566 -0.211331 -0.209370    -0.212393   \n",
       "3     -0.669071 -0.432005 -0.393216 -0.000278  0.004583    -0.035870   \n",
       "4     -0.669071 -0.432005 -0.393216 -0.214326 -0.210368    -0.212393   \n",
       "\n",
       "     Risk_D     Score  Inherent_Risk  Audit_Risk  \n",
       "0 -0.190146 -0.353484      -0.166753   -0.141265  \n",
       "1 -0.202356 -0.819385      -0.276733   -0.172402  \n",
       "2 -0.207059 -0.819385      -0.295112   -0.177606  \n",
       "3 -0.030676  1.976022      -0.003134   -0.094940  \n",
       "4 -0.207059 -0.819385      -0.297523   -0.178289  "
      ]
     },
     "execution_count": 35,
     "metadata": {},
     "output_type": "execute_result"
    }
   ],
   "source": [
    "scaler = StandardScaler()\n",
    "X_scaled = scaler.fit_transform(X)\n",
    "cols = X.columns\n",
    "X_norm = pd.DataFrame(X_scaled, columns=cols)\n",
    "X_norm.head()"
   ]
  },
  {
   "cell_type": "code",
   "execution_count": 36,
   "metadata": {},
   "outputs": [
    {
     "name": "stdout",
     "output_type": "stream",
     "text": [
      "Confusion Matrix: [[222   7]\n",
      " [ 15 144]]\n",
      "Accuracy: 0.9432989690721649\n",
      "Error Rate: 0.05670103092783507\n",
      "Precision: 0.9536423841059603\n"
     ]
    }
   ],
   "source": [
    "X_train_norm, X_test_norm, y_train_norm, y_test_norm = train_test_split(X_norm, target, test_size=0.50, random_state=13)\n",
    "\n",
    "knn_norm = KNeighborsClassifier(n_neighbors=5)\n",
    "knn_norm.fit(X_train_norm, y_train_norm)\n",
    "knn_pred_norm = knn_norm.predict(X_test_norm)\n",
    "\n",
    "cm_knn_norm = confusion_matrix(y_test_norm, knn_pred_norm)\n",
    "error_rate_knn_norm = 1 - accuracy_score(y_test_norm, knn_pred_norm)\n",
    "precision_knn_norm = precision_score(y_test_norm, knn_pred_norm, zero_division=0)\n",
    "\n",
    "print(f\"Confusion Matrix: {cm_knn_norm}\")\n",
    "print(f\"Accuracy: {1-error_rate_knn_norm}\")\n",
    "print(f\"Error Rate: {error_rate_knn_norm}\")\n",
    "print(f\"Precision: {precision_knn_norm}\")"
   ]
  },
  {
   "cell_type": "markdown",
   "metadata": {},
   "source": [
    "(b) With an error rate of 5.67%, the overall predictions have an accuracy of 94.33%.   \n",
    "(c) 95.36% of the firms predicted to evade their taxes actually evaded taxes. "
   ]
  },
  {
   "cell_type": "markdown",
   "metadata": {},
   "source": [
    "#### 7. Which KNN model performs better: with or without the predictors normalized? Briefly explain how you make this determination and why you think this is the case."
   ]
  },
  {
   "cell_type": "markdown",
   "metadata": {},
   "source": [
    "Without normalization, the error rate was 3.61% and precision of 98%.\n",
    "\n",
    "With normalization, the error rate was 5.67% and precision of 95.36%.\n",
    "\n",
    "Based on this comparison, the KNN model without normalization performs better. This is because the KNN model relies on the distance between points to make predictions. Normalization standardizes the scale of the predictors and thus all predictors contribute to the distance calculation equally. In this case, the original scale of predictors might already carry important information, and normalizing removed this information, leading to a less effective model."
   ]
  },
  {
   "cell_type": "markdown",
   "metadata": {},
   "source": [
    "#### 8. For KNN, which k yields the lowest error rate? By 5-fold cross-validation (5FCV), find the k with the lowest classification error rate."
   ]
  },
  {
   "cell_type": "code",
   "execution_count": 39,
   "metadata": {},
   "outputs": [
    {
     "name": "stdout",
     "output_type": "stream",
     "text": [
      "Best parameters: {'n_neighbors': 1}\n",
      "Best cross-validation score: 0.9793548387096775\n",
      "Lowest classification error rate: 0.020645161290322456\n"
     ]
    }
   ],
   "source": [
    "rows = audit.shape[0]\n",
    "upper_k = int(math.sqrt(rows))\n",
    "ks = list(range(1, upper_k + 1))\n",
    "para = {'n_neighbors': ks}\n",
    "\n",
    "knni = KNeighborsClassifier()\n",
    "knn_cv = GridSearchCV(knni, para, cv=KFold(5, random_state=13, shuffle=True))\n",
    "knn_cv.fit(X, target)\n",
    "\n",
    "print(f\"Best parameters: {knn_cv.best_params_}\")\n",
    "print(f\"Best cross-validation score: {knn_cv.best_score_}\")\n",
    "print(f\"Lowest classification error rate: {1 - knn_cv.best_score_}\")"
   ]
  },
  {
   "cell_type": "markdown",
   "metadata": {},
   "source": [
    "Using 5FCV, the k with the lowest classification error rate is k=1 with an error of 2.06%."
   ]
  },
  {
   "cell_type": "markdown",
   "metadata": {},
   "source": [
    "#### 9. In the long run, what problem might arise from the nature of the sample if the government heavily uses your best KNN model to target audits? Hint: the firms in the data are all firms that were audited."
   ]
  },
  {
   "cell_type": "markdown",
   "metadata": {},
   "source": [
    "If the government use the KNN model with Best parameters: {'n_neighbors': 1}, there might be several problems:   \n",
    "1. Overfitting problem. When K=1, the model might be too tailored to the training data, potentially reducing accuracy on predicting the new cases.   \n",
    "2. Selection Bias. Since the model is trained exclusively on data from previously audited firms, it may not accurately represent the wider population of firms. This could lead to biases in the model's predictions."
   ]
  },
  {
   "cell_type": "code",
   "execution_count": null,
   "metadata": {},
   "outputs": [],
   "source": []
  }
 ],
 "metadata": {
  "kernelspec": {
   "display_name": "Python 3 (ipykernel)",
   "language": "python",
   "name": "python3"
  },
  "language_info": {
   "codemirror_mode": {
    "name": "ipython",
    "version": 3
   },
   "file_extension": ".py",
   "mimetype": "text/x-python",
   "name": "python",
   "nbconvert_exporter": "python",
   "pygments_lexer": "ipython3",
   "version": "3.11.5"
  }
 },
 "nbformat": 4,
 "nbformat_minor": 2
}
